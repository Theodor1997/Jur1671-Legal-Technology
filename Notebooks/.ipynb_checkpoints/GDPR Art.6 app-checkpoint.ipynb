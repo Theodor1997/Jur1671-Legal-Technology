{
 "cells": [
  {
   "cell_type": "code",
   "execution_count": 2,
   "metadata": {},
   "outputs": [],
   "source": [
    "#This function turns a \"yes\" or a \"no\" into a boolean, which makes it easier to code, easier to understand \n",
    "#and it allows me to make a loop that gives the user unlimited chances to give the right input.\n",
    "\n",
    "def input_boolean (v):\n",
    "\n",
    "    output = False\n",
    "#'Output'-variable,is given a random boolean value so that the sort of value it takes is defined.\n",
    "\n",
    "    while True:\n",
    "#Continuous loop, must be broken or it goes on \"forever\".\n",
    "\n",
    "        if v == \"yes\":\n",
    "            output = True\n",
    "            break\n",
    "#If the input is \"yes\", then turn 'output'-variable to True and break loop. The output is then True. \"yes\" = True.        \n",
    "        \n",
    "        elif v == \"no\":\n",
    "            output == False\n",
    "            break\n",
    "#If \"no\", then turn 'output'-variable to False and break loop. Output is False. \"no\" = False     \n",
    "        \n",
    "        else:\n",
    "            print(\"please input only 'yes' or 'no', no capital letters, no space.\\n\")\n",
    "            v = input('You may try again:')\n",
    "            continue\n",
    "#If input is anything else than \"yes\" or \"no\", then print an error message, give second chance to give correct input (v) and continue the loop(start over).            \n",
    "    \n",
    "    return output"
   ]
  },
  {
   "cell_type": "code",
   "execution_count": 8,
   "metadata": {},
   "outputs": [
    {
     "name": "stdin",
     "output_type": "stream",
     "text": [
      "input \"yes\", \"no\" or random value n\n"
     ]
    },
    {
     "name": "stdout",
     "output_type": "stream",
     "text": [
      "please input only 'yes' or 'no', no capital letters, no space.\n",
      "\n"
     ]
    },
    {
     "name": "stdin",
     "output_type": "stream",
     "text": [
      "You may try again: no\n"
     ]
    },
    {
     "name": "stdout",
     "output_type": "stream",
     "text": [
      "False\n"
     ]
    }
   ],
   "source": [
    "#test to see if the \"input_boolean\"-function is working properly\n",
    "def input_boolean_test():\n",
    "    print(input_boolean (input('input \"yes\", \"no\" or random value')))"
   ]
  },
  {
   "cell_type": "code",
   "execution_count": 3,
   "metadata": {},
   "outputs": [],
   "source": [
    "#Standardized messages, makes for less stings in the decicion code.\n",
    "Legal = \"\\n\\nYou may do your intended processing!\\n\\n\"\n",
    "Undecided = \"\\n\\nThere may be more specific provisions given by Union or Member State law that apply, please consult an expert.\\n\\n\"\n",
    "Illegal = \"\\n\\nYour intended processing is not legal according to article 6 of the GDPR\\n\\n\"\n",
    "\n",
    "#I had some issues formatting this string, so this is a function that splits each object in this list and prints each object successively.\n",
    "def A6_4():\n",
    "    A6_4_txt = [\"The controller shall, in order to ascertain whether processing for another purpose is compatible with the purpose\", \"for which the personal data are initially collected, take into account, inter alia:\\n\", \n",
    "                \"1. any link between the purposes for which the personal data have been collected and the purposes of the intended further processing;\",\n",
    "                \"2. the context in which the personal data have been collected, in particular regarding the relationship between data subjects and the controller;\",\n",
    "                \"3. the nature of the personal data, in particular whether special categories of personal data are processed,\",\" pursuant to Article 9, or whether personal data related to criminal convictions and offences are processed, pursuant to Article 10;\",\n",
    "                \"4. the possible consequences of the intended further processing for data subjects;\",\n",
    "                \"5. the existence of appropriate safeguards, which may include encryption or pseudonymisation.\\n\"]\n",
    "    for i in A6_4_txt:\n",
    "        print (i)"
   ]
  },
  {
   "cell_type": "code",
   "execution_count": 9,
   "metadata": {},
   "outputs": [],
   "source": [
    "# this is one of two branches in the decicion tree that this code is a model of, more specifically, this function asks two questions related to GDPR Article 6 1a).\n",
    "#It also lists a part of Article 6 4), but only if consent is given, but not for the processing purposes intended.\n",
    "def A6_1a_branch ():\n",
    "    X = True\n",
    "#output-variable(X) is used to break the loop in the stem of the decision tree.\n",
    "    \n",
    "    _1a = input_boolean(input(\"Has the data subject given consent to the processing of his or her personal data for one or more specific purposes?:\\n\"))\n",
    "#\"input_boolean\" takes a user-input and turns it into a boolean, which is saved in \"_1a\". \n",
    "#\"input\"-function contains a question for the user, but this does not affect the user-input.  \n",
    "   \n",
    "    if _1a == True:\n",
    "#True = \"yes\"   \n",
    "\n",
    "        _1a_1 = input_boolean(input(\"Is the intended processing in accordance with the specified purpose(s) the data subject consented to?:\\n\"))\n",
    "       \n",
    "        if _1a_1 == True:\n",
    "            print (Legal)\n",
    "            X = False\n",
    "            return X\n",
    "     \n",
    "        elif _1a_1 == False :\n",
    "            A6_4()\n",
    "            return X\n",
    "        \n",
    "    elif _1a == False:\n",
    "        return X"
   ]
  },
  {
   "cell_type": "code",
   "execution_count": 5,
   "metadata": {},
   "outputs": [],
   "source": [
    "def A6_1_2_branch ():\n",
    "    X = True\n",
    "    \n",
    "    _1_2 = input_boolean(input(\"Are you a public authority and is the intended processing necessary in the performance of your tasks?:\\n\"))\n",
    "    \n",
    "    if _1_2 == False:\n",
    "        \n",
    "        _1f_1 = input_boolean(input(\"Is processing necessary for purposes of the legitimate intrests pursued by the controller or a third party?:\\n\"))\n",
    "        \n",
    "        if _1f_1 == True:\n",
    "        \n",
    "            _1f_2 = input_boolean(input(\"Does the processing in question override or not comply with the intrests or fundemental rights of the data subject which \\nrequire protection of personal data, in particular where the data subject is a child?:\\n\"))\n",
    "            \n",
    "            if _1f_2 == True:\n",
    "                return X\n",
    "            \n",
    "            elif _1f_2 == False:\n",
    "                print(Legal)\n",
    "                X = False\n",
    "                return X\n",
    "            \n",
    "        elif _1f_1 == False:\n",
    "            return X\n",
    "        \n",
    "    elif _1_2 == True:\n",
    "        return X  "
   ]
  },
  {
   "cell_type": "code",
   "execution_count": 6,
   "metadata": {},
   "outputs": [],
   "source": [
    "def Art_6 (): \n",
    "    while  True:      \n",
    "        if A6_1a_branch() == False:\n",
    "            break\n",
    "# _1a and _1a_1 are both true then the output-variable is False and the loop breaks, else the next question is asked.\n",
    "        else:\n",
    "            _1d = input_boolean(input (\"Is processing necessary in order to protect the vital interests of the data subject or of another natural person?:\\n\"))\n",
    "\n",
    "            if _1d == True:\n",
    "                print (Legal)\n",
    "                break\n",
    "            \n",
    "            elif _1d == False:\n",
    "                \n",
    "                _1b_1 = input_boolean(input(\"Is processing necessary for the performance of a contract to which the data subject is party?:\\n\")) \n",
    "                _1b_2 = input_boolean(input(\"Is processing necessary in order to take steps at the request of the data subject prior to entering into a contract?:\\n\"))\n",
    "                \n",
    "                if _1b_1 or _1b_2 == True:\n",
    "                    print(Legal)\n",
    "                    break\n",
    "                elif _1b_1 or _1b_2 == False:\n",
    "                    \n",
    "                    if A6_1_2_branch() == False:\n",
    "                        break\n",
    "                    else:\n",
    "                        _1c = input_boolean(input(\"Is processing necessary for compliance with a legal obligation to which the controller is subject?:\\n\"))\n",
    "                        _1e = input_boolean(input(\"Is processing necessary for the performance of a task carried out in the public interest or in the exercise of official authority vested in the controller?:\\n\"))\n",
    "                        \n",
    "                        if _1c or _1e == True:\n",
    "                            print (Undecided)\n",
    "                            break\n",
    "                        elif _1c or _1e == False:\n",
    "                            print (Illegal)\n",
    "                            break\n",
    "                                    \n",
    "       \n",
    "            "
   ]
  },
  {
   "cell_type": "code",
   "execution_count": 8,
   "metadata": {},
   "outputs": [
    {
     "name": "stdin",
     "output_type": "stream",
     "text": [
      "Has the data subject given consent to the processing of his or her personal data for one or more specific purposes?:\n",
      " no\n",
      "Is processing necessary in order to protect the vital interests of the data subject or of another natural person?:\n",
      " no\n",
      "Is processing necessary for the performance of a contract to which the data subject is party?:\n",
      " no\n",
      "Is processing necessary in order to take steps at the request of the data subject prior to entering into a contract?:\n",
      " no\n",
      "Are you a public authority and is the intended processing necessary in the performance of your tasks?:\n",
      " no\n",
      "Is processing necessary for purposes of the legitimate intrests pursued by the controller or a third party?:\n",
      " yes\n",
      "Does the processing in question override or not comply with the intrests or fundemental rights of the data subject which \n",
      "require protection of personal data, in particular where the data subject is a child?:\n",
      " yes\n",
      "Is processing necessary for compliance with a legal obligation to which the controller is subject?:\n",
      " no\n",
      "Is processing necessary for the performance of a task carried out in the public interest or in the exercise of official authority vested in the controller?:\n",
      " yes\n"
     ]
    },
    {
     "name": "stdout",
     "output_type": "stream",
     "text": [
      "\n",
      "\n",
      "There may be more specific provisions given by Union or Member State law that apply, please consult an expert.\n",
      "\n",
      "\n"
     ]
    }
   ],
   "source": [
    "Art_6 ()"
   ]
  },
  {
   "cell_type": "code",
   "execution_count": null,
   "metadata": {},
   "outputs": [],
   "source": []
  }
 ],
 "metadata": {
  "kernelspec": {
   "display_name": "Python 3",
   "language": "python",
   "name": "python3"
  },
  "language_info": {
   "codemirror_mode": {
    "name": "ipython",
    "version": 3
   },
   "file_extension": ".py",
   "mimetype": "text/x-python",
   "name": "python",
   "nbconvert_exporter": "python",
   "pygments_lexer": "ipython3",
   "version": "3.7.4"
  }
 },
 "nbformat": 4,
 "nbformat_minor": 4
}
